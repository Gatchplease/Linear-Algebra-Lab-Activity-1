{
 "cells": [
  {
   "cell_type": "code",
   "execution_count": 26,
   "metadata": {},
   "outputs": [
    {
     "name": "stdout",
     "output_type": "stream",
     "text": [
      "The total percentage of your semestral grade is composed of 3 categories which are:\n",
      "\t30.00% for Prelims\n",
      "\t30.00% for Midterms,\n",
      "\t40.00% for Finals.\n",
      "Please enter your full name: Paulo Gatchalian\n",
      "Enter your course:BS CPE\n",
      "Enter prelim grade: 70\n",
      "Enter midterm grade: 70\n",
      "Enter finals grade: 70\n",
      "Hello Paulo Gatchalian, The total average of your semestral grade is: 70.00\n",
      "😆\n"
     ]
    }
   ],
   "source": [
    "w_pg, w_mg, w_fg = 0.3, 0.3, 0.4\n",
    "print(\"The total percentage of your semestral grade is composed of 3 categories which are:\\\n",
    "\\n\\t{:.2%} for Prelims\\\n",
    "\\n\\t{:.2%} for Midterms,\\\n",
    "\\n\\t{:.2%} for Finals.\".format(w_pg, w_mg, w_fg))\n",
    "\n",
    "name = input(\"Please enter your full name: \")\n",
    "course = input(\"Enter your course:\")\n",
    "prelimg = float(input(\"Enter prelim grade: \"))\n",
    "midtermg = float(input(\"Enter midterm grade: \"))\n",
    "finalsg = float(input(\"Enter finals grade: \"))\n",
    "semestral_grade = prelimg*w_pg + midtermg*w_mg + finalsg*w_fg\n",
    "print(\"Hello {}, The total average of your semestral grade is: {:.2f}\".format(name, semestral_grade))\n",
    "if(semestral_grade > 70):\n",
    "    print(\"\\U0001F600\")\n",
    "elif(semestral_grade == 70):\n",
    "    print(\"\\U0001F606\")\n",
    "else:\n",
    "    print(\"\\U0001F62D\")"
   ]
  },
  {
   "cell_type": "code",
   "execution_count": null,
   "metadata": {},
   "outputs": [],
   "source": []
  },
  {
   "cell_type": "code",
   "execution_count": null,
   "metadata": {},
   "outputs": [],
   "source": []
  }
 ],
 "metadata": {
  "kernelspec": {
   "display_name": "Python 3",
   "language": "python",
   "name": "python3"
  },
  "language_info": {
   "codemirror_mode": {
    "name": "ipython",
    "version": 3
   },
   "file_extension": ".py",
   "mimetype": "text/x-python",
   "name": "python",
   "nbconvert_exporter": "python",
   "pygments_lexer": "ipython3",
   "version": "3.8.3"
  }
 },
 "nbformat": 4,
 "nbformat_minor": 4
}
